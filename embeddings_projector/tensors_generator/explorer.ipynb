{
 "cells": [
  {
   "cell_type": "code",
   "execution_count": 48,
   "metadata": {},
   "outputs": [
    {
     "name": "stderr",
     "output_type": "stream",
     "text": [
      "/var/folders/5p/_kb940b562jft731f2cs29340000gn/T/ipykernel_86354/1260170024.py:26: FutureWarning: A value is trying to be set on a copy of a DataFrame or Series through chained assignment using an inplace method.\n",
      "The behavior will change in pandas 3.0. This inplace method will never work because the intermediate object on which we are setting values always behaves as a copy.\n",
      "\n",
      "For example, when doing 'df[col].method(value, inplace=True)', try using 'df.method({col: value}, inplace=True)' or df[col] = df[col].method(value) instead, to perform the operation inplace on the original object.\n",
      "\n",
      "\n",
      "  Totals_df_labels['Death Year'].replace(non_numeric_mapping_death,inplace=True)\n",
      "/var/folders/5p/_kb940b562jft731f2cs29340000gn/T/ipykernel_86354/1260170024.py:41: FutureWarning: A value is trying to be set on a copy of a DataFrame or Series through chained assignment using an inplace method.\n",
      "The behavior will change in pandas 3.0. This inplace method will never work because the intermediate object on which we are setting values always behaves as a copy.\n",
      "\n",
      "For example, when doing 'df[col].method(value, inplace=True)', try using 'df.method({col: value}, inplace=True)' or df[col] = df[col].method(value) instead, to perform the operation inplace on the original object.\n",
      "\n",
      "\n",
      "  Totals_df_labels['country'].replace(country_mapping,inplace=True)\n",
      "/var/folders/5p/_kb940b562jft731f2cs29340000gn/T/ipykernel_86354/1260170024.py:49: FutureWarning: A value is trying to be set on a copy of a DataFrame or Series through chained assignment using an inplace method.\n",
      "The behavior will change in pandas 3.0. This inplace method will never work because the intermediate object on which we are setting values always behaves as a copy.\n",
      "\n",
      "For example, when doing 'df[col].method(value, inplace=True)', try using 'df.method({col: value}, inplace=True)' or df[col] = df[col].method(value) instead, to perform the operation inplace on the original object.\n",
      "\n",
      "\n",
      "  Totals_df_labels['Birth Year'].replace(non_numeric_mapping_birth,inplace=True)\n"
     ]
    }
   ],
   "source": [
    "import pandas as pd\n",
    "import numpy as np\n",
    "short_coem_numbers = pd.read_excel('embeddings_total.xlsx')\n",
    "short_coem_metadata =  pd.read_excel('coem_authors_enriched.xlsx')\n",
    "shorc_metadata = pd.read_excel('coem_cuentos_authors.xlsx')\n",
    "Totals_df1 = pd.merge(short_coem_numbers, shorc_metadata, left_on=\"vector_id\" ,right_on='uuid_story', how='left')\n",
    "Totals_df1=Totals_df1[[\"vector_id\",\"values\",\"author_uuid\",\"story_name\",\"reading_time_min\"]].copy()\n",
    "Totals_df = pd.merge(Totals_df1, short_coem_metadata, left_on=\"author_uuid\" ,right_on='UUID', how='left')\n",
    "Totals_df=Totals_df[['vector_id', 'values', 'story_name', 'reading_time_min',\n",
    "       'Author', 'LastName', 'Name', 'country', 'genera',\n",
    "        'Wiki_URL', 'cats', 'linked_authors','Birth Year', 'Death Year']].copy()#'Summary'\n",
    "Totals_df_labels = Totals_df.drop(Totals_df.columns[:2], axis=1)\n",
    "Totals_df_labels = Totals_df_labels.replace('\\t', '', regex=True)\n",
    "Totals_df_labels = Totals_df_labels.replace('\\n', '', regex=True)\n",
    "Totals_df_labels = Totals_df_labels.replace('ñ', 'n', regex=True)\n",
    "\n",
    "\n",
    "non_numeric_mapping_death = {\n",
    "    '1863 y 1786': 1863,  # Assuming you want to take the first year\n",
    "    'c.1400': 1400,\n",
    "    '1976 (desaparecido)': 1976,\n",
    "    'nan':np.nan\n",
    "}\n",
    "\n",
    "# Replace known non-numeric values using the mapping\n",
    "Totals_df_labels['Death Year'].replace(non_numeric_mapping_death,inplace=True)\n",
    "\n",
    "Totals_df_labels['Death Year'] = pd.to_numeric(Totals_df_labels['Death Year'], errors='coerce')\n",
    "# Convert all values to numeric, setting errors='coerce' will convert non-numeric values to NaN\n",
    "country_mapping = {\n",
    "    'Estadounidense': \"Estados Unidos\",  # Assuming you want to take the first year\n",
    "    'Inglesa': \"Inglaterra\",\n",
    "    'Argentino': \"Argentina\",\n",
    "    'nan':np.nan,\n",
    "    \"Cubano\":\"Cuba\",\n",
    "    \"Puertorriqueno\": \"Puerto Rico\",\n",
    "    \"Nueva Zelandia\": \"Nueva Zelanda\"\n",
    "}\n",
    "\n",
    "# Replace known non-numeric values using the mapping\n",
    "Totals_df_labels['country'].replace(country_mapping,inplace=True)\n",
    "\n",
    "non_numeric_mapping_birth = {\n",
    "    'Siglo VI AC': -600,   # 6th century BC\n",
    "    'Siglo XII': 1200      # 12th century\n",
    "}\n",
    "\n",
    "# Replace known non-numeric values using the mapping\n",
    "Totals_df_labels['Birth Year'].replace(non_numeric_mapping_birth,inplace=True)\n",
    "\n",
    "Totals_df_labels['Birth Year'] = pd.to_numeric(Totals_df_labels['Birth Year'], errors='coerce')\n",
    "\n",
    "\n",
    "#FillNAs\n",
    "Totals_df_labels['Name'] = Totals_df_labels['Name'].fillna(\"Unknown\")\n",
    "Totals_df_labels['country'] = Totals_df_labels['country'].fillna(\"Unknown\")\n",
    "Totals_df_labels['genera'] = Totals_df_labels['genera'].fillna(\"Unknown\")\n",
    "Totals_df_labels['cats'] = Totals_df_labels['cats'].fillna(\"Unknown\")\n",
    "Totals_df_labels['linked_authors'] = Totals_df_labels['linked_authors'].fillna(\"Unknown\")\n",
    "Totals_df_labels['Wiki_URL'] = Totals_df_labels['Wiki_URL'].fillna(\"Unknown\")\n",
    "Totals_df_labels['Birth Year'] = Totals_df_labels['Birth Year'].fillna(0)\n",
    "Totals_df_labels['Death Year'] = Totals_df_labels['Death Year'].fillna(0)\n",
    "\n",
    "\n",
    "#rename columns\n",
    "new_column_names = {\n",
    "    'story_name': 'Story Name',\n",
    "    'reading_time_min': 'Reading Time (min)',\n",
    "    'Author': 'Author First Name',\n",
    "    'LastName': 'Author Last Name',\n",
    "    'Name': 'Full Name',\n",
    "    'country': 'Country',\n",
    "    'genera': 'Genre',\n",
    "    'Wiki_URL': 'Wikipedia URL',\n",
    "    'cats': 'Categories',\n",
    "    'linked_authors': 'Linked Authors',\n",
    "    'Birth Year': 'Year of Birth',\n",
    "    'Death Year': 'Year of Death'\n",
    "}\n",
    "\n",
    "# Rename the columns\n",
    "Totals_df_labels.rename(columns=new_column_names, inplace=True)\n",
    "\n",
    "# 50 is the max categories possible"
   ]
  },
  {
   "cell_type": "code",
   "execution_count": 53,
   "metadata": {},
   "outputs": [
    {
     "data": {
      "text/plain": [
       "array(['Espana', 'Estados Unidos', 'Uruguay', 'Cuba', 'Grecia', 'Francia',\n",
       "       'Argentina', 'Unknown', 'Italia', 'India', 'Mexico', 'Rusia',\n",
       "       'Inglaterra', 'África', 'Brasil', 'Portugal', 'Arabia',\n",
       "       'Guatemala', 'Dinamarca', 'Irlanda', 'Colombia', 'Peru',\n",
       "       'Alemania', 'Checoslovaquia', 'Hungria', 'Venezuela', 'Belgica',\n",
       "       'Chile', 'Líbano', 'Noruega', 'Puerto Rico', 'Reino Unido',\n",
       "       'Suiza', 'Japon', 'Polonia', 'Republica Dominicana', 'Oriente',\n",
       "       'Nicaragua', 'China', 'Nueva Zelanda', 'Escocia', 'Ecuador',\n",
       "       'Suecia', 'Egipto', 'El Salvador', 'Paraguay', 'Prusia',\n",
       "       'Costa Rica', 'Gales'], dtype=object)"
      ]
     },
     "execution_count": 53,
     "metadata": {},
     "output_type": "execute_result"
    }
   ],
   "source": [
    "Totals_df_labels[\"Country\"].unique()\n"
   ]
  },
  {
   "cell_type": "code",
   "execution_count": 51,
   "metadata": {},
   "outputs": [
    {
     "data": {
      "text/plain": [
       "array(['Romanticismo', 'Unknown', 'Histórico', 'Rural', 'Modernismo',\n",
       "       'Dramaturgia', 'Pedagógico', 'Fantasía', 'Realismo', 'Periodismo',\n",
       "       'Suspenso', 'modernismo', 'Comedia', 'Ficción', 'Historieta',\n",
       "       'Paranoia', 'historias cortas', 'Ambiental', 'Surrealismo',\n",
       "       'Chejov'], dtype=object)"
      ]
     },
     "execution_count": 51,
     "metadata": {},
     "output_type": "execute_result"
    }
   ],
   "source": [
    "Totals_df_labels[\"Genre\"].unique()"
   ]
  },
  {
   "cell_type": "code",
   "execution_count": 52,
   "metadata": {},
   "outputs": [
    {
     "data": {
      "text/plain": [
       "array(['Las vocales de colores', 'Cuánto se divertían',\n",
       "       'Todo lo contrario', ..., 'La humildad premiada',\n",
       "       'Las zorras, las águilas y las liebres',\n",
       "       'El sombrero del rey de Tibotú'], dtype=object)"
      ]
     },
     "execution_count": 52,
     "metadata": {},
     "output_type": "execute_result"
    }
   ],
   "source": [
    "Totals_df_labels[\"Story Name\"].unique()\n"
   ]
  }
 ],
 "metadata": {
  "kernelspec": {
   "display_name": "Python 3",
   "language": "python",
   "name": "python3"
  },
  "language_info": {
   "codemirror_mode": {
    "name": "ipython",
    "version": 3
   },
   "file_extension": ".py",
   "mimetype": "text/x-python",
   "name": "python",
   "nbconvert_exporter": "python",
   "pygments_lexer": "ipython3",
   "version": "3.9.13"
  }
 },
 "nbformat": 4,
 "nbformat_minor": 2
}
